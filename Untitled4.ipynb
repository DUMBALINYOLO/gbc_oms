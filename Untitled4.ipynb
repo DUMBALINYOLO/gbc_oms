{
 "cells": [
  {
   "cell_type": "code",
   "execution_count": 1,
   "id": "ambient-error",
   "metadata": {},
   "outputs": [],
   "source": [
    "b = StudyNote.objects.last()"
   ]
  },
  {
   "cell_type": "code",
   "execution_count": 2,
   "id": "stuck-avatar",
   "metadata": {},
   "outputs": [
    {
     "data": {
      "text/plain": [
       "<StudyNote: MELEN>"
      ]
     },
     "execution_count": 2,
     "metadata": {},
     "output_type": "execute_result"
    }
   ],
   "source": [
    "b"
   ]
  },
  {
   "cell_type": "code",
   "execution_count": 3,
   "id": "sealed-kingdom",
   "metadata": {},
   "outputs": [
    {
     "data": {
      "text/plain": [
       "<QuerySet []>"
      ]
     },
     "execution_count": 3,
     "metadata": {},
     "output_type": "execute_result"
    }
   ],
   "source": [
    "b.notes.all()"
   ]
  },
  {
   "cell_type": "code",
   "execution_count": 4,
   "id": "atomic-profession",
   "metadata": {},
   "outputs": [
    {
     "data": {
      "text/plain": [
       "<QuerySet [<Text: LIBRA>, <Text: fllflfl>, <Text: MILOJOVEC>, <Text: LINANANNA>, <Text: LLSISIISIISISISA>, <Text: ALFKFJFHFHFHHFHHF>, <Text: HOW TO BE A MILLIOANAIRE>, <Text: LIBRA SAMSA MUKNDIWA MUDWA>, <Text: ASSSSSS>, <Text: llallalllallallallalallalallalallalalalallalallala>, <Text: SIMBANEGABI>, <Text: LIDA>, <Text: MILA KUNIS>]>"
      ]
     },
     "execution_count": 4,
     "metadata": {},
     "output_type": "execute_result"
    }
   ],
   "source": [
    "Text.objects.all()"
   ]
  },
  {
   "cell_type": "code",
   "execution_count": 5,
   "id": "inside-religion",
   "metadata": {},
   "outputs": [],
   "source": [
    "z = StudyNote.objects.all()"
   ]
  },
  {
   "cell_type": "code",
   "execution_count": 6,
   "id": "interesting-excitement",
   "metadata": {},
   "outputs": [
    {
     "name": "stdout",
     "output_type": "stream",
     "text": [
      "[<Text: LIBRA>, <Text: fllflfl>, <Text: MILOJOVEC>, <Text: LINANANNA>, <Text: LLSISIISIISISISA>, <Text: ALFKFJFHFHFHHFHHF>, <Text: HOW TO BE A MILLIOANAIRE>, <Text: LIBRA SAMSA MUKNDIWA MUDWA>, <Text: ASSSSSS>, <Text: llallalllallallallalallalallalallalalalallalallala>, <Text: SIMBANEGABI>, <Text: LIDA>, <Text: MILA KUNIS>]\n"
     ]
    }
   ],
   "source": [
    "a = []\n",
    "for note in z:\n",
    "    for n in note.notes.all():\n",
    "        a.append(n)\n",
    "print(a)"
   ]
  },
  {
   "cell_type": "code",
   "execution_count": 10,
   "id": "hearing-black",
   "metadata": {},
   "outputs": [],
   "source": [
    "b = Text.objects.last()"
   ]
  },
  {
   "cell_type": "code",
   "execution_count": 8,
   "id": "inclusive-gnome",
   "metadata": {},
   "outputs": [
    {
     "data": {
      "text/plain": [
       "<Text: MILA KUNIS>"
      ]
     },
     "execution_count": 8,
     "metadata": {},
     "output_type": "execute_result"
    }
   ],
   "source": [
    "b"
   ]
  },
  {
   "cell_type": "code",
   "execution_count": 11,
   "id": "worldwide-neighborhood",
   "metadata": {},
   "outputs": [
    {
     "data": {
      "text/plain": [
       "<QuerySet [<StudyNote: LIMUKANI>]>"
      ]
     },
     "execution_count": 11,
     "metadata": {},
     "output_type": "execute_result"
    }
   ],
   "source": [
    "b.studynote_set.all()"
   ]
  },
  {
   "cell_type": "code",
   "execution_count": null,
   "id": "junior-immunology",
   "metadata": {},
   "outputs": [],
   "source": []
  }
 ],
 "metadata": {
  "kernelspec": {
   "display_name": "Django Shell-Plus",
   "language": "python",
   "name": "django_extensions"
  },
  "language_info": {
   "codemirror_mode": {
    "name": "ipython",
    "version": 3
   },
   "file_extension": ".py",
   "mimetype": "text/x-python",
   "name": "python",
   "nbconvert_exporter": "python",
   "pygments_lexer": "ipython3",
   "version": "3.7.4"
  }
 },
 "nbformat": 4,
 "nbformat_minor": 5
}
