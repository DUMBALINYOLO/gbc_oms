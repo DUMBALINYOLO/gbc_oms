{
 "cells": [
  {
   "cell_type": "code",
   "execution_count": 1,
   "id": "unique-essence",
   "metadata": {},
   "outputs": [
    {
     "data": {
      "text/plain": [
       "<Student: almus>"
      ]
     },
     "execution_count": 1,
     "metadata": {},
     "output_type": "execute_result"
    }
   ],
   "source": [
    "Student.objects.create_student(email='almsdube@gmail.com', username='almus', password='celumusa')"
   ]
  },
  {
   "cell_type": "code",
   "execution_count": 2,
   "id": "necessary-laptop",
   "metadata": {},
   "outputs": [
    {
     "data": {
      "text/plain": [
       "<StudentProfile: almus>"
      ]
     },
     "execution_count": 2,
     "metadata": {},
     "output_type": "execute_result"
    }
   ],
   "source": [
    "StudentProfile.objects.get(id=13)"
   ]
  },
  {
   "cell_type": "code",
   "execution_count": 3,
   "id": "nasty-pepper",
   "metadata": {},
   "outputs": [
    {
     "data": {
      "text/plain": [
       "<Student: almusa>"
      ]
     },
     "execution_count": 3,
     "metadata": {},
     "output_type": "execute_result"
    }
   ],
   "source": [
    "Student.objects.create_student(email='dubea@gmail.com', username='almusa', password='celumusa')"
   ]
  },
  {
   "cell_type": "code",
   "execution_count": null,
   "id": "suspended-yemen",
   "metadata": {},
   "outputs": [],
   "source": []
  }
 ],
 "metadata": {
  "kernelspec": {
   "display_name": "Django Shell-Plus",
   "language": "python",
   "name": "django_extensions"
  },
  "language_info": {
   "codemirror_mode": {
    "name": "ipython",
    "version": 3
   },
   "file_extension": ".py",
   "mimetype": "text/x-python",
   "name": "python",
   "nbconvert_exporter": "python",
   "pygments_lexer": "ipython3",
   "version": "3.7.4"
  }
 },
 "nbformat": 4,
 "nbformat_minor": 5
}
