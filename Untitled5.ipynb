{
 "cells": [
  {
   "cell_type": "code",
   "execution_count": 1,
   "id": "cosmetic-marketplace",
   "metadata": {},
   "outputs": [],
   "source": [
    "import random\n",
    "from string import digits, ascii_uppercase"
   ]
  },
  {
   "cell_type": "code",
   "execution_count": 12,
   "id": "legitimate-genealogy",
   "metadata": {},
   "outputs": [],
   "source": [
    "legals = digits + ascii_uppercase\n",
    "\n",
    "def rand_string(length, char_set=legals):\n",
    "    output = ''\n",
    "    for _ in range(length): \n",
    "        output += random.choice(char_set)\n",
    "    return output\n",
    "\n",
    "b= rand_string(300)"
   ]
  },
  {
   "cell_type": "code",
   "execution_count": 13,
   "id": "combined-grill",
   "metadata": {},
   "outputs": [
    {
     "name": "stdout",
     "output_type": "stream",
     "text": [
      "300\n"
     ]
    }
   ],
   "source": [
    "print(len(b))"
   ]
  },
  {
   "cell_type": "code",
   "execution_count": null,
   "id": "decent-night",
   "metadata": {},
   "outputs": [],
   "source": []
  }
 ],
 "metadata": {
  "kernelspec": {
   "display_name": "Python 3",
   "language": "python",
   "name": "python3"
  },
  "language_info": {
   "codemirror_mode": {
    "name": "ipython",
    "version": 3
   },
   "file_extension": ".py",
   "mimetype": "text/x-python",
   "name": "python",
   "nbconvert_exporter": "python",
   "pygments_lexer": "ipython3",
   "version": "3.7.4"
  }
 },
 "nbformat": 4,
 "nbformat_minor": 5
}
