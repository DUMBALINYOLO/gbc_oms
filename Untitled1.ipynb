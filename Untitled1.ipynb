{
 "cells": [
  {
   "cell_type": "code",
   "execution_count": 1,
   "id": "narrow-nutrition",
   "metadata": {},
   "outputs": [],
   "source": [
    "from people.models import StudentProfile\n",
    "\n",
    "\n"
   ]
  },
  {
   "cell_type": "code",
   "execution_count": 2,
   "id": "criminal-documentation",
   "metadata": {},
   "outputs": [],
   "source": [
    "a = Student.objects.get(username='max')"
   ]
  },
  {
   "cell_type": "code",
   "execution_count": 3,
   "id": "weighted-legislation",
   "metadata": {},
   "outputs": [
    {
     "data": {
      "text/plain": [
       "<Student: max>"
      ]
     },
     "execution_count": 3,
     "metadata": {},
     "output_type": "execute_result"
    }
   ],
   "source": [
    "a"
   ]
  },
  {
   "cell_type": "code",
   "execution_count": 5,
   "id": "north-english",
   "metadata": {},
   "outputs": [],
   "source": [
    "from django.shortcuts import get_object_or_404"
   ]
  },
  {
   "cell_type": "code",
   "execution_count": 6,
   "id": "confused-workplace",
   "metadata": {},
   "outputs": [],
   "source": [
    "b = get_object_or_404(StudentProfile, user=a)"
   ]
  },
  {
   "cell_type": "code",
   "execution_count": 7,
   "id": "olive-homeless",
   "metadata": {},
   "outputs": [
    {
     "data": {
      "text/plain": [
       "<StudentProfile: max>"
      ]
     },
     "execution_count": 7,
     "metadata": {},
     "output_type": "execute_result"
    }
   ],
   "source": [
    "b"
   ]
  },
  {
   "cell_type": "code",
   "execution_count": 8,
   "id": "wrong-donna",
   "metadata": {},
   "outputs": [
    {
     "data": {
      "text/plain": [
       "<QuerySet [<Course: SSSSSSS>]>"
      ]
     },
     "execution_count": 8,
     "metadata": {},
     "output_type": "execute_result"
    }
   ],
   "source": [
    "b.taken_courses.all()"
   ]
  },
  {
   "cell_type": "code",
   "execution_count": null,
   "id": "downtown-samuel",
   "metadata": {},
   "outputs": [],
   "source": []
  }
 ],
 "metadata": {
  "kernelspec": {
   "display_name": "Django Shell-Plus",
   "language": "python",
   "name": "django_extensions"
  },
  "language_info": {
   "codemirror_mode": {
    "name": "ipython",
    "version": 3
   },
   "file_extension": ".py",
   "mimetype": "text/x-python",
   "name": "python",
   "nbconvert_exporter": "python",
   "pygments_lexer": "ipython3",
   "version": "3.7.4"
  }
 },
 "nbformat": 4,
 "nbformat_minor": 5
}
