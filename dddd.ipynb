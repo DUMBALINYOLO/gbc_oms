{
 "cells": [
  {
   "cell_type": "code",
   "execution_count": 1,
   "id": "equivalent-rugby",
   "metadata": {},
   "outputs": [],
   "source": [
    "from people.models import Student "
   ]
  },
  {
   "cell_type": "code",
   "execution_count": 2,
   "id": "architectural-mystery",
   "metadata": {},
   "outputs": [],
   "source": [
    "a = Student.objects.create_student(email='max@gosso.com', username='max', password='celumusa')"
   ]
  },
  {
   "cell_type": "code",
   "execution_count": 3,
   "id": "anonymous-working",
   "metadata": {},
   "outputs": [
    {
     "data": {
      "text/plain": [
       "<Student: max>"
      ]
     },
     "execution_count": 3,
     "metadata": {},
     "output_type": "execute_result"
    }
   ],
   "source": [
    "a"
   ]
  },
  {
   "cell_type": "code",
   "execution_count": 3,
   "id": "cathedral-extent",
   "metadata": {},
   "outputs": [
    {
     "data": {
      "text/plain": [
       "<Student: maxocdegfkccmm>"
      ]
     },
     "execution_count": 3,
     "metadata": {},
     "output_type": "execute_result"
    }
   ],
   "source": [
    "\n",
    "Student.objects.create_student(email='maxocc@gopssogg.com', username='maxocoomm', password='celumusa')\n",
    "Student.objects.create_student(email='maxocdc@gososogg.com', username='maxocdoomm', password='celumusa')\n",
    "Student.objects.create_student(email='maxocdec@gossogg.com', username='maxocdellmm', password='celumusa')\n",
    "Student.objects.create_student(email='maxocdefc@gjossogg.com', username='maxocdefkllmm', password='celumusa')\n",
    "Student.objects.create_student(email='maxocdefgc@jgossogg.com', username='maxocdegfkkmm', password='celumusa')\n",
    "Student.objects.create_student(email='maxcc@gossoqjgg.com', username='maxjjolccmm', password='celumusa')\n",
    "Student.objects.create_student(email='maxoccc@gossoaggjj.com', username='maxoclccmm', password='celumusa')\n",
    "Student.objects.create_student(email='maxocdcc@gossogggff.com', username='maxocdlccmm', password='celumusa')\n",
    "Student.objects.create_student(email='maxocdecc@gossogggfgf.com', username='maggxocdelccmm', password='celumusa')\n",
    "Student.objects.create_student(email='maxocdefcc@gossojgg.ddcom', username='maxgffocdeflccmm', password='celumusa')\n",
    "Student.objects.create_student(email='maxocdefgcc@gossojgg.ddcom', username='maxocdegfkccmm', password='celumusa')"
   ]
  },
  {
   "cell_type": "code",
   "execution_count": 4,
   "id": "hundred-diana",
   "metadata": {},
   "outputs": [
    {
     "data": {
      "text/plain": [
       "12"
      ]
     },
     "execution_count": 4,
     "metadata": {},
     "output_type": "execute_result"
    }
   ],
   "source": [
    "Student.objects.count()"
   ]
  },
  {
   "cell_type": "code",
   "execution_count": 8,
   "id": "hairy-gamma",
   "metadata": {},
   "outputs": [],
   "source": [
    "from curriculum.models import Subject, Curriculum"
   ]
  },
  {
   "cell_type": "code",
   "execution_count": 9,
   "id": "viral-flooring",
   "metadata": {},
   "outputs": [],
   "source": [
    "a = Curriculum.objects.create(name='ZIMSEC')"
   ]
  },
  {
   "cell_type": "code",
   "execution_count": 10,
   "id": "affected-medicaid",
   "metadata": {},
   "outputs": [
    {
     "data": {
      "text/plain": [
       "<Curriculum: ZIMSEC>"
      ]
     },
     "execution_count": 10,
     "metadata": {},
     "output_type": "execute_result"
    }
   ],
   "source": [
    "a"
   ]
  },
  {
   "cell_type": "code",
   "execution_count": 11,
   "id": "informal-parliament",
   "metadata": {},
   "outputs": [
    {
     "data": {
      "text/plain": [
       "<Subject: Metal Work>"
      ]
     },
     "execution_count": 11,
     "metadata": {},
     "output_type": "execute_result"
    }
   ],
   "source": [
    "Subject.objects.create(curriculum=a, name='Maths')\n",
    "Subject.objects.create(curriculum=a, name='Content')\n",
    "Subject.objects.create(curriculum=a, name='History')\n",
    "Subject.objects.create(curriculum=a, name='Biology')\n",
    "Subject.objects.create(curriculum=a, name='Geograhy')\n",
    "Subject.objects.create(curriculum=a, name='Combined Science')\n",
    "Subject.objects.create(curriculum=a, name='Commerce')\n",
    "Subject.objects.create(curriculum=a, name='Literature in NDEBELE')\n",
    "Subject.objects.create(curriculum=a, name='Agriculture')\n",
    "Subject.objects.create(curriculum=a, name='Acquaculture')\n",
    "Subject.objects.create(curriculum=a, name='Manure Utd')\n",
    "Subject.objects.create(curriculum=a, name='Chelsea')\n",
    "Subject.objects.create(curriculum=a, name='Chemistry')\n",
    "Subject.objects.create(curriculum=a, name='Food Science')\n",
    "Subject.objects.create(curriculum=a, name='Divinity')\n",
    "Subject.objects.create(curriculum=a, name='Venda')\n",
    "\n",
    "\n",
    "Subject.objects.create(curriculum=a, name='Afrikaans')\n",
    "Subject.objects.create(curriculum=a, name='Zulu')\n",
    "Subject.objects.create(curriculum=a, name='Sotho')\n",
    "Subject.objects.create(curriculum=a, name='Tswana')\n",
    "Subject.objects.create(curriculum=a, name='Tsonga')\n",
    "Subject.objects.create(curriculum=a, name='Shona')\n",
    "Subject.objects.create(curriculum=a, name='Vembe')\n",
    "Subject.objects.create(curriculum=a, name='Chewa')\n",
    "Subject.objects.create(curriculum=a, name='Shangaan')\n",
    "Subject.objects.create(curriculum=a, name='Tonga')\n",
    "Subject.objects.create(curriculum=a, name='Fashion')\n",
    "Subject.objects.create(curriculum=a, name='WoodWork')\n",
    "Subject.objects.create(curriculum=a, name='Metal Work')\n"
   ]
  },
  {
   "cell_type": "code",
   "execution_count": 12,
   "id": "first-african",
   "metadata": {},
   "outputs": [
    {
     "data": {
      "text/plain": [
       "29"
      ]
     },
     "execution_count": 12,
     "metadata": {},
     "output_type": "execute_result"
    }
   ],
   "source": [
    "Subject.objects.count()"
   ]
  },
  {
   "cell_type": "code",
   "execution_count": null,
   "id": "acquired-heading",
   "metadata": {},
   "outputs": [],
   "source": []
  },
  {
   "cell_type": "code",
   "execution_count": 14,
   "id": "threaded-sussex",
   "metadata": {},
   "outputs": [],
   "source": [
    "from people.models import StudentProfile"
   ]
  },
  {
   "cell_type": "code",
   "execution_count": 16,
   "id": "royal-public",
   "metadata": {},
   "outputs": [
    {
     "data": {
      "text/plain": [
       "<QuerySet [<StudentProfile: max>, <StudentProfile: maxocoomm>, <StudentProfile: maxocdoomm>, <StudentProfile: maxocdellmm>, <StudentProfile: maxocdefkllmm>, <StudentProfile: maxocdegfkkmm>, <StudentProfile: maxjjolccmm>, <StudentProfile: maxoclccmm>, <StudentProfile: maxocdlccmm>, <StudentProfile: maggxocdelccmm>, <StudentProfile: maxgffocdeflccmm>, <StudentProfile: maxocdegfkccmm>]>"
      ]
     },
     "execution_count": 16,
     "metadata": {},
     "output_type": "execute_result"
    }
   ],
   "source": [
    "students = StudentProfile.objects.all()\n",
    "students"
   ]
  },
  {
   "cell_type": "code",
   "execution_count": 17,
   "id": "monthly-estonia",
   "metadata": {},
   "outputs": [
    {
     "data": {
      "text/plain": [
       "12"
      ]
     },
     "execution_count": 17,
     "metadata": {},
     "output_type": "execute_result"
    }
   ],
   "source": [
    "StudentProfile.objects.count()"
   ]
  },
  {
   "cell_type": "code",
   "execution_count": 18,
   "id": "spatial-thickness",
   "metadata": {},
   "outputs": [],
   "source": [
    "from klasses.models import Stream, StudentClass"
   ]
  },
  {
   "cell_type": "code",
   "execution_count": 19,
   "id": "educated-bulgaria",
   "metadata": {},
   "outputs": [
    {
     "data": {
      "text/plain": [
       "<Stream: GRADE TWELVE>"
      ]
     },
     "execution_count": 19,
     "metadata": {},
     "output_type": "execute_result"
    }
   ],
   "source": [
    "Stream.objects.create(grade='GRADE ONE')\n",
    "Stream.objects.create(grade='GRADE TWO')\n",
    "Stream.objects.create(grade='GRADE THREE')\n",
    "Stream.objects.create(grade='GRADE FOUR')\n",
    "Stream.objects.create(grade='GRADE FIVE')\n",
    "Stream.objects.create(grade='GRADE SIX')\n",
    "Stream.objects.create(grade='GRADE SEVEN')\n",
    "Stream.objects.create(grade='GRADE EIGHT')\n",
    "Stream.objects.create(grade='GRADE NINE')\n",
    "Stream.objects.create(grade='GRADE TEN')\n",
    "Stream.objects.create(grade='GRADE ELEVEN')\n",
    "Stream.objects.create(grade='GRADE TWELVE')"
   ]
  },
  {
   "cell_type": "code",
   "execution_count": 21,
   "id": "integral-cuisine",
   "metadata": {},
   "outputs": [],
   "source": [
    "g_12 = Stream.objects.last()"
   ]
  },
  {
   "cell_type": "code",
   "execution_count": 22,
   "id": "geographic-tennis",
   "metadata": {},
   "outputs": [
    {
     "data": {
      "text/plain": [
       "<Teacher: melody>"
      ]
     },
     "execution_count": 22,
     "metadata": {},
     "output_type": "execute_result"
    }
   ],
   "source": [
    "from people.models import Teacher\n",
    "\n",
    "Teacher.objects.create_teacher(email='siza@gmail.com', username='sizanani', password='celumusa')\n",
    "Teacher.objects.create_teacher(email='melu@gmail.com', username='melu', password='celumusa')\n",
    "Teacher.objects.create_teacher(email='melody@gmail.com', username='melody', password='celumusa')"
   ]
  },
  {
   "cell_type": "code",
   "execution_count": 23,
   "id": "consecutive-orleans",
   "metadata": {},
   "outputs": [],
   "source": [
    "teacher = TeacherProfile.objects.last()\n",
    "\n"
   ]
  },
  {
   "cell_type": "code",
   "execution_count": 24,
   "id": "promotional-privilege",
   "metadata": {},
   "outputs": [],
   "source": [
    "b = StudentClass.objects.create(name='12 A', stream=g_12,max_population=100, class_teacher=teacher, year='2021', status='active' )"
   ]
  },
  {
   "cell_type": "code",
   "execution_count": 25,
   "id": "indonesian-inflation",
   "metadata": {},
   "outputs": [
    {
     "data": {
      "text/plain": [
       "<StudentClass: 12 A>"
      ]
     },
     "execution_count": 25,
     "metadata": {},
     "output_type": "execute_result"
    }
   ],
   "source": [
    "b"
   ]
  },
  {
   "cell_type": "code",
   "execution_count": 28,
   "id": "republican-habitat",
   "metadata": {},
   "outputs": [],
   "source": [
    "from enrollment.models import Admission"
   ]
  },
  {
   "cell_type": "code",
   "execution_count": 30,
   "id": "nonprofit-survivor",
   "metadata": {},
   "outputs": [],
   "source": [
    "for student in students:\n",
    "    Admission.objects.create(student=student, klass=b)"
   ]
  },
  {
   "cell_type": "code",
   "execution_count": 32,
   "id": "incident-asbestos",
   "metadata": {},
   "outputs": [],
   "source": [
    "user_with_null = StudentProfile.objects.filter(application__isnull=True)"
   ]
  },
  {
   "cell_type": "code",
   "execution_count": 33,
   "id": "durable-chassis",
   "metadata": {},
   "outputs": [
    {
     "data": {
      "text/plain": [
       "<QuerySet []>"
      ]
     },
     "execution_count": 33,
     "metadata": {},
     "output_type": "execute_result"
    }
   ],
   "source": [
    "user_with_null"
   ]
  },
  {
   "cell_type": "code",
   "execution_count": null,
   "id": "active-bride",
   "metadata": {},
   "outputs": [],
   "source": []
  },
  {
   "cell_type": "code",
   "execution_count": 31,
   "id": "angry-hudson",
   "metadata": {},
   "outputs": [
    {
     "data": {
      "text/plain": [
       "<QuerySet [<StudentProfile: maxocdeflcc>, <StudentProfile: maxomm>, <StudentProfile: maxocmm>, <StudentProfile: maxocdmm>, <StudentProfile: maxocdemm>, <StudentProfile: maxocdefmm>, <StudentProfile: maxolmm>, <StudentProfile: maxoclmm>, <StudentProfile: maxocdlmm>, <StudentProfile: maxocdelmm>]>"
      ]
     },
     "execution_count": 31,
     "metadata": {},
     "output_type": "execute_result"
    }
   ],
   "source": [
    "user_with_null"
   ]
  },
  {
   "cell_type": "code",
   "execution_count": 33,
   "id": "external-johnson",
   "metadata": {},
   "outputs": [],
   "source": [
    "user_with_null = StudentProfile.objects.filter(application__isnull=True)"
   ]
  },
  {
   "cell_type": "code",
   "execution_count": 34,
   "id": "finite-newspaper",
   "metadata": {},
   "outputs": [],
   "source": [
    "from klasses.models import StudentEnrollment"
   ]
  },
  {
   "cell_type": "code",
   "execution_count": 35,
   "id": "described-house",
   "metadata": {},
   "outputs": [
    {
     "data": {
      "text/plain": [
       "<QuerySet [<StudentProfile: max>, <StudentProfile: maxocoomm>, <StudentProfile: maxocdoomm>, <StudentProfile: maxocdellmm>, <StudentProfile: maxocdefkllmm>, <StudentProfile: maxocdegfkkmm>, <StudentProfile: maxjjolccmm>, <StudentProfile: maxoclccmm>, <StudentProfile: maxocdlccmm>, <StudentProfile: maggxocdelccmm>, <StudentProfile: maxgffocdeflccmm>, <StudentProfile: maxocdegfkccmm>]>"
      ]
     },
     "execution_count": 35,
     "metadata": {},
     "output_type": "execute_result"
    }
   ],
   "source": [
    "students = StudentProfile.objects.all()\n",
    "students"
   ]
  },
  {
   "cell_type": "code",
   "execution_count": 38,
   "id": "logical-romance",
   "metadata": {},
   "outputs": [],
   "source": [
    "for student in students:\n",
    "    StudentEnrollment.objects.create(stdnt=student, enr_klass=student.application.klass)"
   ]
  },
  {
   "cell_type": "code",
   "execution_count": 39,
   "id": "metropolitan-happening",
   "metadata": {
    "scrolled": true
   },
   "outputs": [
    {
     "data": {
      "text/plain": [
       "<QuerySet [<StudentEnrollment: max 1A 2021-02-04>, <StudentEnrollment: maxo 1A 2021-02-04>, <StudentEnrollment: maxoc 1A 2021-02-04>, <StudentEnrollment: maxocd 1A 2021-02-04>, <StudentEnrollment: maxocde 1A 2021-02-04>, <StudentEnrollment: maxocdef 1A 2021-02-04>, <StudentEnrollment: maxocdegf 1A 2021-02-04>, <StudentEnrollment: maxol 1A 2021-02-04>, <StudentEnrollment: maxocl 1A 2021-02-04>, <StudentEnrollment: maxocdl 1A 2021-02-04>, <StudentEnrollment: maxocdel 1A 2021-02-04>, <StudentEnrollment: maxocdefl 1A 2021-02-04>, <StudentEnrollment: maxocdegfk 1A 2021-02-04>, <StudentEnrollment: maxocoo 1A 2021-02-04>, <StudentEnrollment: maxocdoo 1A 2021-02-04>, <StudentEnrollment: maxocdell 1A 2021-02-04>, <StudentEnrollment: maxocdefkll 1B 2021-02-04>, <StudentEnrollment: maxocdegfkk 1B 2021-02-04>, <StudentEnrollment: maxolcc 1A 2021-02-04>, <StudentEnrollment: maxoclcc 1B 2021-02-04>, '...(remaining elements truncated)...']>"
      ]
     },
     "execution_count": 39,
     "metadata": {},
     "output_type": "execute_result"
    }
   ],
   "source": [
    "StudentEnrollment.objects.all()"
   ]
  },
  {
   "cell_type": "code",
   "execution_count": 40,
   "id": "advised-might",
   "metadata": {},
   "outputs": [
    {
     "data": {
      "text/plain": [
       "<QuerySet [<StudentProfile: max>, <StudentProfile: maxo>, <StudentProfile: maxoc>, <StudentProfile: maxocd>, <StudentProfile: maxocde>, <StudentProfile: maxocdef>, <StudentProfile: maxocdegf>, <StudentProfile: maxol>, <StudentProfile: maxocl>, <StudentProfile: maxocdl>, <StudentProfile: maxocdel>, <StudentProfile: maxocdefl>, <StudentProfile: maxocdegfk>, <StudentProfile: maxocoo>, <StudentProfile: maxocdoo>, <StudentProfile: maxocdell>, <StudentProfile: maxolcc>, <StudentProfile: maxocdeflcc>, <StudentProfile: maxocdegfkcc>, <StudentProfile: maxomm>, '...(remaining elements truncated)...']>"
      ]
     },
     "execution_count": 40,
     "metadata": {},
     "output_type": "execute_result"
    }
   ],
   "source": [
    "a.students.all()"
   ]
  },
  {
   "cell_type": "code",
   "execution_count": 41,
   "id": "stuffed-plaza",
   "metadata": {},
   "outputs": [],
   "source": [
    "b = StudentClass.objects.last()"
   ]
  },
  {
   "cell_type": "code",
   "execution_count": 42,
   "id": "dramatic-obligation",
   "metadata": {},
   "outputs": [
    {
     "data": {
      "text/plain": [
       "<QuerySet [<StudentProfile: maxocdefkll>, <StudentProfile: maxocdegfkk>, <StudentProfile: maxoclcc>, <StudentProfile: maxocdlcc>, <StudentProfile: maxocdelcc>, <StudentProfile: maxocdegfmm>, <StudentProfile: maxocdeflmm>, <StudentProfile: maxocdegfkmm>, <StudentProfile: maxocoomm>, <StudentProfile: maxocdoomm>, <StudentProfile: maxocdellmm>, <StudentProfile: maxocdefkllmm>, <StudentProfile: maxocdegfkkmm>, <StudentProfile: maxjjolccmm>, <StudentProfile: maxoclccmm>, <StudentProfile: maxocdlccmm>, <StudentProfile: maggxocdelccmm>, <StudentProfile: maxgffocdeflccmm>, <StudentProfile: maxocdegfkccmm>]>"
      ]
     },
     "execution_count": 42,
     "metadata": {},
     "output_type": "execute_result"
    }
   ],
   "source": [
    "b.students.all()\n"
   ]
  },
  {
   "cell_type": "code",
   "execution_count": 1,
   "id": "technical-polls",
   "metadata": {},
   "outputs": [],
   "source": [
    "from django.contrib.auth import get_user_model"
   ]
  },
  {
   "cell_type": "code",
   "execution_count": 2,
   "id": "brave-correlation",
   "metadata": {},
   "outputs": [],
   "source": [
    "User = get_user_model()"
   ]
  },
  {
   "cell_type": "code",
   "execution_count": 3,
   "id": "seasonal-consciousness",
   "metadata": {},
   "outputs": [],
   "source": [
    "a = User.objects.first()"
   ]
  },
  {
   "cell_type": "code",
   "execution_count": 4,
   "id": "actual-treatment",
   "metadata": {},
   "outputs": [
    {
     "data": {
      "text/plain": [
       "<User: >"
      ]
     },
     "execution_count": 4,
     "metadata": {},
     "output_type": "execute_result"
    }
   ],
   "source": [
    "a"
   ]
  },
  {
   "cell_type": "code",
   "execution_count": 5,
   "id": "decreased-tuesday",
   "metadata": {},
   "outputs": [
    {
     "data": {
      "text/plain": [
       "'dumba@gmail.com'"
      ]
     },
     "execution_count": 5,
     "metadata": {},
     "output_type": "execute_result"
    }
   ],
   "source": [
    "a.email"
   ]
  },
  {
   "cell_type": "code",
   "execution_count": null,
   "id": "incredible-resolution",
   "metadata": {},
   "outputs": [],
   "source": []
  }
 ],
 "metadata": {
  "kernelspec": {
   "display_name": "Django Shell-Plus",
   "language": "python",
   "name": "django_extensions"
  },
  "language_info": {
   "codemirror_mode": {
    "name": "ipython",
    "version": 3
   },
   "file_extension": ".py",
   "mimetype": "text/x-python",
   "name": "python",
   "nbconvert_exporter": "python",
   "pygments_lexer": "ipython3",
   "version": "3.7.4"
  }
 },
 "nbformat": 4,
 "nbformat_minor": 5
}
