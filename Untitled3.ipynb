{
 "cells": [
  {
   "cell_type": "code",
   "execution_count": 1,
   "id": "instructional-mongolia",
   "metadata": {},
   "outputs": [
    {
     "data": {
      "text/plain": [
       "<CourseOffered: ALISTO>"
      ]
     },
     "execution_count": 1,
     "metadata": {},
     "output_type": "execute_result"
    }
   ],
   "source": [
    "CourseOffered.objects.create(name='ALISTO', content='SHAZAAM')"
   ]
  },
  {
   "cell_type": "code",
   "execution_count": 2,
   "id": "lightweight-terror",
   "metadata": {},
   "outputs": [
    {
     "data": {
      "text/plain": [
       "<CourseOffered: KLALLA>"
      ]
     },
     "execution_count": 2,
     "metadata": {},
     "output_type": "execute_result"
    }
   ],
   "source": [
    "CourseOffered.objects.create(name='KLALLA', content='SHAZAAM')"
   ]
  },
  {
   "cell_type": "code",
   "execution_count": null,
   "id": "adequate-seven",
   "metadata": {},
   "outputs": [],
   "source": []
  }
 ],
 "metadata": {
  "kernelspec": {
   "display_name": "Django Shell-Plus",
   "language": "python",
   "name": "django_extensions"
  },
  "language_info": {
   "codemirror_mode": {
    "name": "ipython",
    "version": 3
   },
   "file_extension": ".py",
   "mimetype": "text/x-python",
   "name": "python",
   "nbconvert_exporter": "python",
   "pygments_lexer": "ipython3",
   "version": "3.7.4"
  }
 },
 "nbformat": 4,
 "nbformat_minor": 5
}
