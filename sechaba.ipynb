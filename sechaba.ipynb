{
 "cells": [
  {
   "cell_type": "code",
   "execution_count": 1,
   "id": "sophisticated-capacity",
   "metadata": {},
   "outputs": [],
   "source": [
    "from django.shortcuts import get_object_or_404\n",
    "import random\n",
    "from string import digits, ascii_uppercase\n",
    "from django.core.exceptions import ObjectDoesNotExist\n",
    "\n",
    "\n",
    "legals = digits + ascii_uppercase\n",
    "\n",
    "def rand_string(length, char_set=legals):\n",
    "    output = ''\n",
    "    for _ in range(length): \n",
    "        output += random.choice(char_set)\n",
    "    return output\n",
    "\n"
   ]
  },
  {
   "cell_type": "code",
   "execution_count": 2,
   "id": "cross-pierce",
   "metadata": {},
   "outputs": [],
   "source": [
    "def get_user_with_mail(email):\n",
    "    try:\n",
    "        user = User.objects.get(email=email)\n",
    "        return user\n",
    "    except User.DoesNotExist:\n",
    "        return 'An account with this email address does not Exist. Make sure you register an Account first before you set the password'\n",
    "    \n",
    "    "
   ]
  },
  {
   "cell_type": "code",
   "execution_count": 3,
   "id": "affecting-postage",
   "metadata": {},
   "outputs": [
    {
     "name": "stdout",
     "output_type": "stream",
     "text": [
      "An account with this email address does not Exist. Make sure you register an Account first before you set the password\n"
     ]
    }
   ],
   "source": [
    "print(get_user_with_mail('baridz@gmail.com'))"
   ]
  },
  {
   "cell_type": "code",
   "execution_count": 18,
   "id": "certain-advance",
   "metadata": {},
   "outputs": [],
   "source": [
    "def generate_reset_token(email):\n",
    "    user = get_user_with_mail(email)\n",
    "    if user == 'An account with this email address does not Exist. Make sure you register an Account first before you set the password':\n",
    "        print(user)\n",
    "    else:\n",
    "        \n",
    "        UserPasswordResetCode.objects.create(\n",
    "            user = user,\n",
    "            reset_code = rand_string(350)\n",
    "        )\n",
    "    \n",
    "    \n",
    "    \n",
    "generate_reset_token('baridzi@gmail.com')"
   ]
  },
  {
   "cell_type": "code",
   "execution_count": 19,
   "id": "genuine-chemical",
   "metadata": {},
   "outputs": [],
   "source": [
    "a = UserPasswordResetCode.objects.last()"
   ]
  },
  {
   "cell_type": "code",
   "execution_count": 20,
   "id": "sudden-damages",
   "metadata": {},
   "outputs": [
    {
     "data": {
      "text/plain": [
       "'LB95BAQOB5KB5RYQQKRB1DOF1ZC55STHIRIXB22PA620A4RU0EA2Q6WP82E1WTSPB1HEGPY7VOICALV560OG2ZUH09B8MGFRBY8VITFBWOIGTUBZJECWFTI0FXILQCQUMI592ANG3VZE5HJS39JK3DM8PRHN9RR1CZXLJKQB9NII63OV1D7FH4WM3TECJ61CUCAVOZZBTGFU7HLBIBE3DLVW09XVWFTEBGYSWCOZJYA57ASUSUWCJSBA4B67NXU04Q6B3426KA6GSUNYFSW8JGJ9RPXAMG45O2COGF777KEJVJPT9PQCXT97YLIPBZBE85OV4Q4E0A9IFHWNRMYNKNL6EO2A0O'"
      ]
     },
     "execution_count": 20,
     "metadata": {},
     "output_type": "execute_result"
    }
   ],
   "source": [
    "a.reset_code"
   ]
  },
  {
   "cell_type": "code",
   "execution_count": 39,
   "id": "constant-covering",
   "metadata": {},
   "outputs": [
    {
     "name": "stdout",
     "output_type": "stream",
     "text": [
      "This token does not Exist or has expired\n"
     ]
    }
   ],
   "source": [
    "\n",
    "\n",
    "def get_user(token):\n",
    "    try:\n",
    "        reset_token = UserPasswordResetCode.objects.get(reset_code=token)\n",
    "        user = reset_token.user\n",
    "        return user \n",
    "    except UserPasswordResetCode.DoesNotExist:\n",
    "        return 'This token does not Exist or has expired'\n",
    "\n",
    "\n",
    "print(get_user('LB95BAQOB5KB5RYQQKRB1DOF1ZC55STHIRIXB22PA620A4RU0EA2Q6WP8E1WTSPB1HEGPY7VOICALV560OG2ZUH09B8MGFRBY8VITFBWOIGTUBZJECWFTI0FXILQCQUMI592ANG3VZE5HJS39JK3DM8PRHN9RR1CZXLJKQB9NII63OV1D7FH4WM3TECJ61CUCAVOZZBTGFU7HLBIBE3DLVW09XVWFTEBGYSWCOZJYA57ASUSUWCJSBA4B67NXU04Q6B3426KA6GSUNYFSW8JGJ9RPXAMG45O2COGF777KEJVJPT9PQCXT97YLIPBZBE85OV4Q4E0A9IFHWNRMYNKNL6EO2A0O'))\n"
   ]
  },
  {
   "cell_type": "code",
   "execution_count": null,
   "id": "prostate-beijing",
   "metadata": {},
   "outputs": [],
   "source": []
  }
 ],
 "metadata": {
  "kernelspec": {
   "display_name": "Django Shell-Plus",
   "language": "python",
   "name": "django_extensions"
  },
  "language_info": {
   "codemirror_mode": {
    "name": "ipython",
    "version": 3
   },
   "file_extension": ".py",
   "mimetype": "text/x-python",
   "name": "python",
   "nbconvert_exporter": "python",
   "pygments_lexer": "ipython3",
   "version": "3.7.4"
  }
 },
 "nbformat": 4,
 "nbformat_minor": 5
}
